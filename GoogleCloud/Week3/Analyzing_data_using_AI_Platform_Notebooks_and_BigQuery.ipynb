{
  "nbformat": 4,
  "nbformat_minor": 5,
  "metadata": {
    "environment": {
      "name": "tf2-cpu.2-5.m76",
      "type": "gcloud",
      "uri": "gcr.io/deeplearning-platform-release/tf2-cpu.2-5:m76"
    },
    "kernelspec": {
      "display_name": "Python 3",
      "language": "python",
      "name": "python3"
    },
    "language_info": {
      "codemirror_mode": {
        "name": "ipython",
        "version": 3
      },
      "file_extension": ".py",
      "mimetype": "text/x-python",
      "name": "python",
      "nbconvert_exporter": "python",
      "pygments_lexer": "ipython3",
      "version": "3.7.10"
    },
    "colab": {
      "name": "Analyzing data using AI Platform Notebooks and BigQuery.ipynb",
      "provenance": [],
      "include_colab_link": true
    }
  },
  "cells": [
    {
      "cell_type": "markdown",
      "metadata": {
        "id": "view-in-github",
        "colab_type": "text"
      },
      "source": [
        "<a href=\"https://colab.research.google.com/github/NguyenHungThuong/Deeplearning.AI/blob/main/GoogleCloud/Week3/Analyzing_data_using_AI_Platform_Notebooks_and_BigQuery.ipynb\" target=\"_parent\"><img src=\"https://colab.research.google.com/assets/colab-badge.svg\" alt=\"Open In Colab\"/></a>"
      ]
    },
    {
      "cell_type": "code",
      "metadata": {
        "id": "e59047da",
        "outputId": "29ef5c65-1a1e-45e4-8043-4d32f4e2b971"
      },
      "source": [
        "!pip install google-cloud-bigquery==1.25.0"
      ],
      "id": "e59047da",
      "execution_count": null,
      "outputs": [
        {
          "name": "stdout",
          "output_type": "stream",
          "text": [
            "Collecting google-cloud-bigquery==1.25.0\n",
            "  Downloading google_cloud_bigquery-1.25.0-py2.py3-none-any.whl (169 kB)\n",
            "\u001b[K     |████████████████████████████████| 169 kB 5.2 MB/s eta 0:00:01\n",
            "\u001b[?25hCollecting google-resumable-media<0.6dev,>=0.5.0\n",
            "  Downloading google_resumable_media-0.5.1-py2.py3-none-any.whl (38 kB)\n",
            "Requirement already satisfied: google-api-core<2.0dev,>=1.15.0 in /opt/conda/lib/python3.7/site-packages (from google-cloud-bigquery==1.25.0) (1.31.1)\n",
            "Requirement already satisfied: google-cloud-core<2.0dev,>=1.1.0 in /opt/conda/lib/python3.7/site-packages (from google-cloud-bigquery==1.25.0) (1.7.2)\n",
            "Requirement already satisfied: six<2.0.0dev,>=1.13.0 in /opt/conda/lib/python3.7/site-packages (from google-cloud-bigquery==1.25.0) (1.16.0)\n",
            "Requirement already satisfied: google-auth<2.0dev,>=1.9.0 in /opt/conda/lib/python3.7/site-packages (from google-cloud-bigquery==1.25.0) (1.34.0)\n",
            "Requirement already satisfied: protobuf>=3.6.0 in /opt/conda/lib/python3.7/site-packages (from google-cloud-bigquery==1.25.0) (3.16.0)\n",
            "Requirement already satisfied: packaging>=14.3 in /opt/conda/lib/python3.7/site-packages (from google-api-core<2.0dev,>=1.15.0->google-cloud-bigquery==1.25.0) (21.0)\n",
            "Requirement already satisfied: setuptools>=40.3.0 in /opt/conda/lib/python3.7/site-packages (from google-api-core<2.0dev,>=1.15.0->google-cloud-bigquery==1.25.0) (49.6.0.post20210108)\n",
            "Requirement already satisfied: googleapis-common-protos<2.0dev,>=1.6.0 in /opt/conda/lib/python3.7/site-packages (from google-api-core<2.0dev,>=1.15.0->google-cloud-bigquery==1.25.0) (1.53.0)\n",
            "Requirement already satisfied: pytz in /opt/conda/lib/python3.7/site-packages (from google-api-core<2.0dev,>=1.15.0->google-cloud-bigquery==1.25.0) (2021.1)\n",
            "Requirement already satisfied: requests<3.0.0dev,>=2.18.0 in /opt/conda/lib/python3.7/site-packages (from google-api-core<2.0dev,>=1.15.0->google-cloud-bigquery==1.25.0) (2.25.1)\n",
            "Requirement already satisfied: rsa<5,>=3.1.4 in /opt/conda/lib/python3.7/site-packages (from google-auth<2.0dev,>=1.9.0->google-cloud-bigquery==1.25.0) (4.7.2)\n",
            "Requirement already satisfied: pyasn1-modules>=0.2.1 in /opt/conda/lib/python3.7/site-packages (from google-auth<2.0dev,>=1.9.0->google-cloud-bigquery==1.25.0) (0.2.7)\n",
            "Requirement already satisfied: cachetools<5.0,>=2.0.0 in /opt/conda/lib/python3.7/site-packages (from google-auth<2.0dev,>=1.9.0->google-cloud-bigquery==1.25.0) (4.2.2)\n",
            "Requirement already satisfied: pyparsing>=2.0.2 in /opt/conda/lib/python3.7/site-packages (from packaging>=14.3->google-api-core<2.0dev,>=1.15.0->google-cloud-bigquery==1.25.0) (2.4.7)\n",
            "Requirement already satisfied: pyasn1<0.5.0,>=0.4.6 in /opt/conda/lib/python3.7/site-packages (from pyasn1-modules>=0.2.1->google-auth<2.0dev,>=1.9.0->google-cloud-bigquery==1.25.0) (0.4.8)\n",
            "Requirement already satisfied: chardet<5,>=3.0.2 in /opt/conda/lib/python3.7/site-packages (from requests<3.0.0dev,>=2.18.0->google-api-core<2.0dev,>=1.15.0->google-cloud-bigquery==1.25.0) (4.0.0)\n",
            "Requirement already satisfied: idna<3,>=2.5 in /opt/conda/lib/python3.7/site-packages (from requests<3.0.0dev,>=2.18.0->google-api-core<2.0dev,>=1.15.0->google-cloud-bigquery==1.25.0) (2.10)\n",
            "Requirement already satisfied: certifi>=2017.4.17 in /opt/conda/lib/python3.7/site-packages (from requests<3.0.0dev,>=2.18.0->google-api-core<2.0dev,>=1.15.0->google-cloud-bigquery==1.25.0) (2021.5.30)\n",
            "Requirement already satisfied: urllib3<1.27,>=1.21.1 in /opt/conda/lib/python3.7/site-packages (from requests<3.0.0dev,>=2.18.0->google-api-core<2.0dev,>=1.15.0->google-cloud-bigquery==1.25.0) (1.26.6)\n",
            "Installing collected packages: google-resumable-media, google-cloud-bigquery\n",
            "  Attempting uninstall: google-resumable-media\n",
            "    Found existing installation: google-resumable-media 1.3.2\n",
            "    Uninstalling google-resumable-media-1.3.2:\n",
            "      Successfully uninstalled google-resumable-media-1.3.2\n",
            "  Attempting uninstall: google-cloud-bigquery\n",
            "    Found existing installation: google-cloud-bigquery 2.23.2\n",
            "    Uninstalling google-cloud-bigquery-2.23.2:\n",
            "      Successfully uninstalled google-cloud-bigquery-2.23.2\n",
            "\u001b[31mERROR: pip's dependency resolver does not currently take into account all the packages that are installed. This behaviour is the source of the following dependency conflicts.\n",
            "tfx-bsl 1.2.0 requires absl-py<0.13,>=0.9, but you have absl-py 0.13.0 which is incompatible.\n",
            "tfx-bsl 1.2.0 requires google-api-python-client<2,>=1.7.11, but you have google-api-python-client 2.15.0 which is incompatible.\n",
            "tfx-bsl 1.2.0 requires google-cloud-bigquery<2.21,>=1.28.0, but you have google-cloud-bigquery 1.25.0 which is incompatible.\n",
            "tfx-bsl 1.2.0 requires pyarrow<3,>=1, but you have pyarrow 5.0.0 which is incompatible.\n",
            "tensorflow-transform 1.2.0 requires absl-py<0.13,>=0.9, but you have absl-py 0.13.0 which is incompatible.\n",
            "tensorflow-transform 1.2.0 requires google-cloud-bigquery<2.21,>=1.28.0, but you have google-cloud-bigquery 1.25.0 which is incompatible.\n",
            "tensorflow-transform 1.2.0 requires pyarrow<3,>=1, but you have pyarrow 5.0.0 which is incompatible.\n",
            "google-cloud-storage 1.41.1 requires google-resumable-media<3.0dev,>=1.3.0; python_version >= \"3.6\", but you have google-resumable-media 0.5.1 which is incompatible.\u001b[0m\n",
            "Successfully installed google-cloud-bigquery-2.20.0 google-resumable-media-0.5.1\n"
          ]
        }
      ]
    },
    {
      "cell_type": "code",
      "metadata": {
        "id": "bb5c1dce",
        "outputId": "838189a4-11a7-49c4-b169-3ad7ac85c6af"
      },
      "source": [
        "query=\"\"\"\n",
        "SELECT\n",
        "  departure_delay,\n",
        "  COUNT(1) AS num_flights,\n",
        "  APPROX_QUANTILES(arrival_delay, 10) AS arrival_delay_deciles\n",
        "FROM\n",
        "  `bigquery-samples.airline_ontime_data.flights`\n",
        "GROUP BY\n",
        "  departure_delay\n",
        "HAVING\n",
        "  num_flights > 100\n",
        "ORDER BY\n",
        "  departure_delay ASC\n",
        "\"\"\"\n",
        "from google.cloud import bigquery\n",
        "df = bigquery.Client().query(query).to_dataframe()\n",
        "df.head()"
      ],
      "id": "bb5c1dce",
      "execution_count": null,
      "outputs": [
        {
          "data": {
            "text/html": [
              "<div>\n",
              "<style scoped>\n",
              "    .dataframe tbody tr th:only-of-type {\n",
              "        vertical-align: middle;\n",
              "    }\n",
              "\n",
              "    .dataframe tbody tr th {\n",
              "        vertical-align: top;\n",
              "    }\n",
              "\n",
              "    .dataframe thead th {\n",
              "        text-align: right;\n",
              "    }\n",
              "</style>\n",
              "<table border=\"1\" class=\"dataframe\">\n",
              "  <thead>\n",
              "    <tr style=\"text-align: right;\">\n",
              "      <th></th>\n",
              "      <th>departure_delay</th>\n",
              "      <th>num_flights</th>\n",
              "      <th>arrival_delay_deciles</th>\n",
              "    </tr>\n",
              "  </thead>\n",
              "  <tbody>\n",
              "    <tr>\n",
              "      <th>0</th>\n",
              "      <td>-37.0</td>\n",
              "      <td>107</td>\n",
              "      <td>[-66.0, -44.0, -41.0, -35.0, -30.0, -23.0, -17...</td>\n",
              "    </tr>\n",
              "    <tr>\n",
              "      <th>1</th>\n",
              "      <td>-36.0</td>\n",
              "      <td>139</td>\n",
              "      <td>[-74.0, -43.0, -39.0, -37.0, -32.0, -25.0, -18...</td>\n",
              "    </tr>\n",
              "    <tr>\n",
              "      <th>2</th>\n",
              "      <td>-35.0</td>\n",
              "      <td>191</td>\n",
              "      <td>[-68.0, -45.0, -40.0, -36.0, -28.0, -19.0, -14...</td>\n",
              "    </tr>\n",
              "    <tr>\n",
              "      <th>3</th>\n",
              "      <td>-34.0</td>\n",
              "      <td>195</td>\n",
              "      <td>[-58.0, -44.0, -40.0, -35.0, -30.0, -25.0, -19...</td>\n",
              "    </tr>\n",
              "    <tr>\n",
              "      <th>4</th>\n",
              "      <td>-33.0</td>\n",
              "      <td>227</td>\n",
              "      <td>[-59.0, -43.0, -39.0, -36.0, -32.0, -28.0, -20...</td>\n",
              "    </tr>\n",
              "  </tbody>\n",
              "</table>\n",
              "</div>"
            ],
            "text/plain": [
              "   departure_delay  num_flights  \\\n",
              "0            -37.0          107   \n",
              "1            -36.0          139   \n",
              "2            -35.0          191   \n",
              "3            -34.0          195   \n",
              "4            -33.0          227   \n",
              "\n",
              "                               arrival_delay_deciles  \n",
              "0  [-66.0, -44.0, -41.0, -35.0, -30.0, -23.0, -17...  \n",
              "1  [-74.0, -43.0, -39.0, -37.0, -32.0, -25.0, -18...  \n",
              "2  [-68.0, -45.0, -40.0, -36.0, -28.0, -19.0, -14...  \n",
              "3  [-58.0, -44.0, -40.0, -35.0, -30.0, -25.0, -19...  \n",
              "4  [-59.0, -43.0, -39.0, -36.0, -32.0, -28.0, -20...  "
            ]
          },
          "execution_count": 5,
          "metadata": {},
          "output_type": "execute_result"
        }
      ]
    },
    {
      "cell_type": "code",
      "metadata": {
        "id": "d2115478",
        "outputId": "fddebeb1-c51d-4c5f-d2b3-26381f45cc05"
      },
      "source": [
        "import pandas as pd\n",
        "percentiles = df['arrival_delay_deciles'].apply(pd.Series)\n",
        "percentiles = percentiles.rename(columns = lambda x : str(x*10) + \"%\")\n",
        "df = pd.concat([df['departure_delay'], percentiles], axis=1)\n",
        "df.head()"
      ],
      "id": "d2115478",
      "execution_count": null,
      "outputs": [
        {
          "data": {
            "text/html": [
              "<div>\n",
              "<style scoped>\n",
              "    .dataframe tbody tr th:only-of-type {\n",
              "        vertical-align: middle;\n",
              "    }\n",
              "\n",
              "    .dataframe tbody tr th {\n",
              "        vertical-align: top;\n",
              "    }\n",
              "\n",
              "    .dataframe thead th {\n",
              "        text-align: right;\n",
              "    }\n",
              "</style>\n",
              "<table border=\"1\" class=\"dataframe\">\n",
              "  <thead>\n",
              "    <tr style=\"text-align: right;\">\n",
              "      <th></th>\n",
              "      <th>departure_delay</th>\n",
              "      <th>0%</th>\n",
              "      <th>10%</th>\n",
              "      <th>20%</th>\n",
              "      <th>30%</th>\n",
              "      <th>40%</th>\n",
              "      <th>50%</th>\n",
              "      <th>60%</th>\n",
              "      <th>70%</th>\n",
              "      <th>80%</th>\n",
              "      <th>90%</th>\n",
              "      <th>100%</th>\n",
              "    </tr>\n",
              "  </thead>\n",
              "  <tbody>\n",
              "    <tr>\n",
              "      <th>0</th>\n",
              "      <td>-37.0</td>\n",
              "      <td>-66.0</td>\n",
              "      <td>-44.0</td>\n",
              "      <td>-41.0</td>\n",
              "      <td>-35.0</td>\n",
              "      <td>-30.0</td>\n",
              "      <td>-23.0</td>\n",
              "      <td>-17.0</td>\n",
              "      <td>-12.0</td>\n",
              "      <td>-3.0</td>\n",
              "      <td>6.0</td>\n",
              "      <td>33.0</td>\n",
              "    </tr>\n",
              "    <tr>\n",
              "      <th>1</th>\n",
              "      <td>-36.0</td>\n",
              "      <td>-74.0</td>\n",
              "      <td>-43.0</td>\n",
              "      <td>-39.0</td>\n",
              "      <td>-37.0</td>\n",
              "      <td>-32.0</td>\n",
              "      <td>-25.0</td>\n",
              "      <td>-18.0</td>\n",
              "      <td>-14.0</td>\n",
              "      <td>-7.0</td>\n",
              "      <td>2.0</td>\n",
              "      <td>49.0</td>\n",
              "    </tr>\n",
              "    <tr>\n",
              "      <th>2</th>\n",
              "      <td>-35.0</td>\n",
              "      <td>-68.0</td>\n",
              "      <td>-45.0</td>\n",
              "      <td>-40.0</td>\n",
              "      <td>-36.0</td>\n",
              "      <td>-28.0</td>\n",
              "      <td>-19.0</td>\n",
              "      <td>-14.0</td>\n",
              "      <td>-8.0</td>\n",
              "      <td>-4.0</td>\n",
              "      <td>3.0</td>\n",
              "      <td>85.0</td>\n",
              "    </tr>\n",
              "    <tr>\n",
              "      <th>3</th>\n",
              "      <td>-34.0</td>\n",
              "      <td>-58.0</td>\n",
              "      <td>-44.0</td>\n",
              "      <td>-40.0</td>\n",
              "      <td>-35.0</td>\n",
              "      <td>-30.0</td>\n",
              "      <td>-25.0</td>\n",
              "      <td>-19.0</td>\n",
              "      <td>-14.0</td>\n",
              "      <td>-8.0</td>\n",
              "      <td>2.0</td>\n",
              "      <td>39.0</td>\n",
              "    </tr>\n",
              "    <tr>\n",
              "      <th>4</th>\n",
              "      <td>-33.0</td>\n",
              "      <td>-59.0</td>\n",
              "      <td>-43.0</td>\n",
              "      <td>-39.0</td>\n",
              "      <td>-36.0</td>\n",
              "      <td>-32.0</td>\n",
              "      <td>-28.0</td>\n",
              "      <td>-20.0</td>\n",
              "      <td>-14.0</td>\n",
              "      <td>-7.0</td>\n",
              "      <td>5.0</td>\n",
              "      <td>25.0</td>\n",
              "    </tr>\n",
              "  </tbody>\n",
              "</table>\n",
              "</div>"
            ],
            "text/plain": [
              "   departure_delay    0%   10%   20%   30%   40%   50%   60%   70%  80%  90%  \\\n",
              "0            -37.0 -66.0 -44.0 -41.0 -35.0 -30.0 -23.0 -17.0 -12.0 -3.0  6.0   \n",
              "1            -36.0 -74.0 -43.0 -39.0 -37.0 -32.0 -25.0 -18.0 -14.0 -7.0  2.0   \n",
              "2            -35.0 -68.0 -45.0 -40.0 -36.0 -28.0 -19.0 -14.0  -8.0 -4.0  3.0   \n",
              "3            -34.0 -58.0 -44.0 -40.0 -35.0 -30.0 -25.0 -19.0 -14.0 -8.0  2.0   \n",
              "4            -33.0 -59.0 -43.0 -39.0 -36.0 -32.0 -28.0 -20.0 -14.0 -7.0  5.0   \n",
              "\n",
              "   100%  \n",
              "0  33.0  \n",
              "1  49.0  \n",
              "2  85.0  \n",
              "3  39.0  \n",
              "4  25.0  "
            ]
          },
          "execution_count": 3,
          "metadata": {},
          "output_type": "execute_result"
        }
      ]
    },
    {
      "cell_type": "code",
      "metadata": {
        "id": "8253c694",
        "outputId": "056413ad-927a-47d7-be99-f76363174f32"
      },
      "source": [
        "without_extremes = df.drop(['0%', '100%'], 1)\n",
        "without_extremes.plot(x='departure_delay', xlim=(-30,50), ylim=(-50,50));"
      ],
      "id": "8253c694",
      "execution_count": null,
      "outputs": [
        {
          "name": "stderr",
          "output_type": "stream",
          "text": [
            "/opt/conda/lib/python3.7/site-packages/ipykernel_launcher.py:1: FutureWarning: In a future version of pandas all arguments of DataFrame.drop except for the argument 'labels' will be keyword-only\n",
            "  \"\"\"Entry point for launching an IPython kernel.\n"
          ]
        },
        {
          "data": {
            "image/png": "[encoded data removed]",
            "text/plain": [
              "<Figure size 432x288 with 1 Axes>"
            ]
          },
          "metadata": {
            "needs_background": "light"
          },
          "output_type": "display_data"
        }
      ]
    },
    {
      "cell_type": "code",
      "metadata": {
        "id": "e0cb918c"
      },
      "source": [
        ""
      ],
      "id": "e0cb918c",
      "execution_count": null,
      "outputs": []
    }
  ]
}